{
 "cells": [
  {
   "cell_type": "code",
   "execution_count": null,
   "metadata": {},
   "outputs": [],
   "source": [
    "'''\n",
    "1. Calculate Area of a Circle\n",
    "Write a Python program which accepts the radius of a circle from the user and compute the area. Program Console Sample Output 1: Input Radius: 0.5 Area of Circle with radius 0.5 is 0.7853981634\n",
    "'''\n",
    "\n",
    "radius = float(input('Enter Radius = '))\n",
    "pi = 3.142\n",
    "\n",
    "area = pi * (radius**2)\n",
    "print(area)"
   ]
  },
  {
   "cell_type": "code",
   "execution_count": null,
   "metadata": {},
   "outputs": [],
   "source": [
    "'''\n",
    "2. Check Number either positive, negative or zero\n",
    "Write a Python program to check if a number is positive, negative or zero \n",
    "'''\n",
    "\n",
    "number = float(input('Enter Your Number = '))\n",
    "\n",
    "if number >0:\n",
    "    print('Its a positive number')\n",
    "elif number <0:\n",
    "    print('its a negative number')\n",
    "else:\n",
    "    print(\"Number is Zero\")"
   ]
  },
  {
   "cell_type": "code",
   "execution_count": null,
   "metadata": {
    "scrolled": true
   },
   "outputs": [],
   "source": [
    "'''\n",
    "3. Divisibility Check of two numbers\n",
    "Write a Python program to check whether a number is completely divisible by another number. Accept two integer values form the user \n",
    "'''\n",
    "\n",
    "number1=int(input('Enter first number = '))\n",
    "number2=int(input('Enter second number = '))\n",
    "\n",
    "a=number1%number2\n",
    "\n",
    "if a==0:\n",
    "    print('Number '+str(number1)+' is Completely Divisible by '+str(number2))\n",
    "else:\n",
    "    print('Number '+str(number1)+' is not Completely Divisible by '+str(number2))"
   ]
  },
  {
   "cell_type": "code",
   "execution_count": null,
   "metadata": {},
   "outputs": [],
   "source": [
    "'''\n",
    "4. Days Calculator\n",
    "Write a Python program to calculate number of days between two dates \n",
    "'''\n",
    "\n",
    "date1 = input('Enter a date in (dd/mm/yyyy) format : ')\n",
    "date2 = input('Enter a date in dd/mm/yyyy format : ')\n",
    "\n",
    "a = abs(int(date1[0]+date1[1]) - int(date2[0]+date2[1]) )\n",
    "print('There are ' + str(a) + ' days in between ' + date1 + ' and ' + date2)"
   ]
  },
  {
   "cell_type": "code",
   "execution_count": null,
   "metadata": {},
   "outputs": [],
   "source": [
    "'''\n",
    "5. Calculate Volume of a sphere\n",
    "Write a Python program to get the volume of a sphere, please take the radius as input from user\n",
    "'''\n",
    "\n",
    "radius=int(input(\"Enter Radius=\"))\n",
    "pi=3.142\n",
    "vol_of_sphere=(4/3)*pi*(radius**3)\n",
    "print(vol_of_sphere)"
   ]
  },
  {
   "cell_type": "code",
   "execution_count": null,
   "metadata": {},
   "outputs": [],
   "source": [
    "'''\n",
    "6. Copy string n times\n",
    "Write a Python program to get a string which is n (non-negative integer) copies of a given string. \n",
    "'''\n",
    "\n",
    "string = input('Enter string : ')\n",
    "num = int(input('how many copy of string you need : '))\n",
    "new = ('')\n",
    "for i in range(num):\n",
    "    new = new + string\n",
    "    #print(string)\n",
    "print(new)"
   ]
  },
  {
   "cell_type": "code",
   "execution_count": null,
   "metadata": {},
   "outputs": [],
   "source": [
    "'''\n",
    "7. Check if number is Even or Odd\n",
    "Write a Python program to find whether a given number (accept from the user) is even or odd, print out an appropriate message to the user\n",
    "'''\n",
    "\n",
    "num1=int(input(\"First NUmber= \"))\n",
    "num2=2\n",
    "a=(num1%num2)\n",
    "if a==0:\n",
    "    print('Even number')\n",
    "else:\n",
    "    print('odd number')\n",
    "         "
   ]
  },
  {
   "cell_type": "code",
   "execution_count": null,
   "metadata": {},
   "outputs": [],
   "source": [
    "'''\n",
    "8. Vowel Tester\n",
    "Write a Python program to test whether a passed letter is a vowel or not\n",
    "'''\n",
    "\n",
    "char = input('Enter Character: ')\n",
    "if char=='A' or char=='a' or char=='E' or char=='e' or char=='I' or char=='i' or char=='O' or char =='o' or char=='U' or char=='u':\n",
    "    print('Letter ' +char+' is Vowel')\n",
    "else:\n",
    "    print('Letter ' +char+' is not Vowel')"
   ]
  },
  {
   "cell_type": "code",
   "execution_count": null,
   "metadata": {},
   "outputs": [],
   "source": [
    "'''\n",
    "9. Triangle area\n",
    "Write a Python program that will accept the base and height of a triangle and compute the area\n",
    "'''\n",
    "\n",
    "base = int(input('Enter Magnitude of Triangle base: '))\n",
    "height = int(input('Enter Magnitude of Triangle height: '))\n",
    "\n",
    "area = (height * base)/2\n",
    "\n",
    "print('Area of a Triangle with Height '+ str(height) + ' and Base '+ str(base) + ' is '+ str(area))\n",
    "\n",
    "\n",
    "\n"
   ]
  },
  {
   "cell_type": "code",
   "execution_count": null,
   "metadata": {},
   "outputs": [],
   "source": [
    "'''\n",
    "10. Calculate Interest\n",
    "Write a Python program to compute the future value of a specified principal amount, rate of interest, and a number of years\n",
    "'''\n",
    "\n",
    "amount = float(input('Please enter principal amount: '))\n",
    "interest = float(input('Please Enter Rate of interest in %: '))\n",
    "years = int(input('Enter number of years for investment: '))\n",
    "\n",
    "future_value  = amount*((1+(0.01*interest)) ** years)\n",
    "print(round(future_value,2))\n"
   ]
  },
  {
   "cell_type": "code",
   "execution_count": null,
   "metadata": {},
   "outputs": [],
   "source": [
    "'''\n",
    "11. Euclidean distance\n",
    "Write a Python program to compute the distance between the points (x1, y1) and (x2, y2).\n",
    "'''\n",
    "\n",
    "import math\n",
    "x1=int(input('Enter Co-ordinate for x1: '))\n",
    "x2=int(input('Enter Co-ordinate for x2: '))\n",
    "y1=int(input('Enter Co-ordinate for y1: '))\n",
    "y2=int(input('Enter Co-ordinate for y2: '))\n",
    "\n",
    "dist = math.sqrt((x2 - x1)**2 + (y2 - y1)**2) \n",
    "\n",
    "print(dist)"
   ]
  },
  {
   "cell_type": "code",
   "execution_count": null,
   "metadata": {},
   "outputs": [],
   "source": [
    "'''\n",
    "12. Feet to Centimeter Converter\n",
    "Write a Python program to convert height in feet to centimetres.\n",
    "\n",
    "'''\n",
    "print(\"Input your height: \")\n",
    "h_ft = int(input(\"Feet: \"))\n",
    "h_inch = int(input(\"Inches: \"))\n",
    "\n",
    "h_inch += h_ft * 12\n",
    "h_cm = round(h_inch * 2.54, 1)\n",
    "\n",
    "print(\"Your height is : %d cm.\" % h_cm)"
   ]
  },
  {
   "cell_type": "code",
   "execution_count": null,
   "metadata": {},
   "outputs": [],
   "source": [
    "'''\n",
    "13. BMI Calculator\n",
    "Write a Python program to calculate body mass index\n",
    "'''\n",
    "\n",
    "height = float(input(\"Input your height in meters: \"))\n",
    "weight = float(input(\"Input your weight in kilogram: \"))\n",
    "print(\"Your body mass index is: \", round(weight / (height * height), 2))"
   ]
  },
  {
   "cell_type": "code",
   "execution_count": null,
   "metadata": {},
   "outputs": [],
   "source": [
    "'''\n",
    "14. Sum of n Positive Integers\n",
    "Write a python program to sum of the first n positive integers\n",
    "\n",
    "'''\n",
    "n = int(input(\"Input a number: \"))\n",
    "sum_num = (n * (n + 1)) / 2\n",
    "print(sum_num)"
   ]
  },
  {
   "cell_type": "code",
   "execution_count": null,
   "metadata": {},
   "outputs": [],
   "source": [
    "'''\n",
    "15. Digits Sum of a Number\n",
    "Write a Python program to calculate the sum of the digits in an integer\n",
    "'''\n",
    "\n",
    "num = input('Enter Number: ')\n",
    "lenght = len(num)\n",
    "sum = 0\n",
    "for i in range(lenght):\n",
    "    sum = sum + int(num[i])\n",
    "print(sum)"
   ]
  },
  {
   "cell_type": "code",
   "execution_count": null,
   "metadata": {},
   "outputs": [],
   "source": [
    "'''\n",
    "16. Decimal to Binary Converter\n",
    "Write a Python program to convert an decimal integer to binary\n",
    "\n",
    "'''\n",
    "\n",
    "\n",
    "def binary(n):\n",
    "   if n > 1:\n",
    "       binary(n//2)\n",
    "   print(n % 2,end = '')\n",
    " \n",
    "dec = int(input(\"Enter an integer: \"))\n",
    "binary(dec)"
   ]
  },
  {
   "cell_type": "code",
   "execution_count": null,
   "metadata": {},
   "outputs": [],
   "source": [
    "'''\n",
    "17. Binary to Decimal Converter\n",
    "Write a program to convert binary number to Decimal number\n",
    "\n",
    "'''\n",
    "\n",
    "b_num = list(input(\"Input a binary number: \"))\n",
    "value = 0\n",
    "\n",
    "for i in range(len(b_num)):\n",
    "    digit = b_num.pop()\n",
    "    if digit == '1':\n",
    "        value = value + pow(2, i)\n",
    "print(\"The decimal value of the number is\", value)"
   ]
  },
  {
   "cell_type": "code",
   "execution_count": null,
   "metadata": {},
   "outputs": [],
   "source": [
    "'''\n",
    "18. Vowel and Consonants Counter\n",
    "Input a text and count the occurrences of vowels and consonant\n",
    "'''\n",
    "\n",
    "str1 = input(\"Please Enter Your Own String : \")\n",
    "vowels = 0\n",
    "consonants = 0\n",
    "\n",
    "for i in str1:\n",
    "    if(i == 'a' or i == 'e' or i == 'i' or i == 'o' or i == 'u'\n",
    "       or i == 'A' or i == 'E' or i == 'I' or i == 'O' or i == 'U'):\n",
    "        vowels = vowels + 1\n",
    "    else:\n",
    "        consonants = consonants + 1\n",
    " \n",
    "print(\"Total Number of Vowels in this String = \", vowels)\n",
    "print(\"Total Number of Consonants in this String = \", consonants)"
   ]
  },
  {
   "cell_type": "code",
   "execution_count": null,
   "metadata": {},
   "outputs": [],
   "source": [
    "'''\n",
    "19. Palindrome tester\n",
    "Write a program to check whether given input is palindrome or not\n",
    "'''\n",
    "\n",
    "string = input(\"Enter String: \")\n",
    "rev_string = reversed(string)\n",
    "if list(string) == list(rev_string):\n",
    "   print(\"It is palindrome\")\n",
    "else:\n",
    "   print(\"It is not palindrome\")\n"
   ]
  },
  {
   "cell_type": "code",
   "execution_count": null,
   "metadata": {},
   "outputs": [],
   "source": [
    "'''\n",
    "20. Count Alphabets, Numbers and Special Characters\n",
    "Write a Python program that accepts a string and calculate the number of digits and letters\n",
    "\n",
    "'''\n",
    "\n",
    "s = input(\"Input a string: \")\n",
    "d=l=0\n",
    "for c in s:\n",
    "    if c.isdigit():\n",
    "        d=d+1\n",
    "    elif c.isalpha():\n",
    "        l=l+1\n",
    "    else:\n",
    "        pass\n",
    "print(\"Letters\", l)\n",
    "print(\"Digits\", d)"
   ]
  },
  {
   "cell_type": "code",
   "execution_count": null,
   "metadata": {},
   "outputs": [],
   "source": [
    "'''\n",
    "21. Write a Python program to construct the following pattern\n",
    "* \n",
    "* * \n",
    "* * * \n",
    "* * * * \n",
    "* * * * * \n",
    "* * * * \n",
    "* * * \n",
    "* * \n",
    "*\n",
    "'''\n",
    "\n",
    "rows = input(\"Enter max star to be display on single line\")\n",
    "rows = int (rows) \n",
    "\n",
    "for i in range (0, rows):\n",
    "    for j in range(0, i + 1):\n",
    "        print(\"*\", end=' ')\n",
    "    print(\"\\r\")\n",
    "for i in range (rows, 0, -1):\n",
    "    for j in range(0, i -1):\n",
    "        print(\"*\", end=' ')\n",
    "    print(\"\\r\")"
   ]
  },
  {
   "cell_type": "code",
   "execution_count": null,
   "metadata": {},
   "outputs": [],
   "source": [
    "'''\n",
    "22. Write a Python program to construct the following pattern\n",
    "1 \n",
    "1 2 \n",
    "1 2 3 \n",
    "1 2 3 4 \n",
    "1 2 3 4 5 \n",
    "1 2 3 4 \n",
    "1 2 3 \n",
    "1 2 \n",
    "1\n",
    "'''\n",
    "\n",
    "number = int(input('Enter Number: '))\n",
    "lenght = number\n",
    "for row in range(1, lenght):\n",
    "    for column in range(1, row + 1):\n",
    "        print(column, end=' ')\n",
    "    print(\"\")"
   ]
  },
  {
   "cell_type": "code",
   "execution_count": null,
   "metadata": {},
   "outputs": [],
   "source": [
    "'''\n",
    "23. Write a Python program to construct the following pattern\n",
    "1\n",
    "22\n",
    "333\n",
    "4444\n",
    "55555\n",
    "666666\n",
    "7777777\n",
    "88888888\n",
    "999999999\n",
    "'''\n",
    "\n",
    "number = int(input('Enter Number: '))\n",
    "lenght = number\n",
    "for num in range(lenght):\n",
    "    for i in range(num):\n",
    "        print (num, end=\" \")\n",
    "    print(\"\\n\")"
   ]
  }
 ],
 "metadata": {
  "kernelspec": {
   "display_name": "Python 3",
   "language": "python",
   "name": "python3"
  },
  "language_info": {
   "codemirror_mode": {
    "name": "ipython",
    "version": 3
   },
   "file_extension": ".py",
   "mimetype": "text/x-python",
   "name": "python",
   "nbconvert_exporter": "python",
   "pygments_lexer": "ipython3",
   "version": "3.7.3"
  }
 },
 "nbformat": 4,
 "nbformat_minor": 2
}
